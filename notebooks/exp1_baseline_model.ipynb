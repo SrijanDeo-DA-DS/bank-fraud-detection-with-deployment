{
 "cells": [
  {
   "cell_type": "code",
   "execution_count": 1,
   "id": "c3e722ac-2727-4468-8412-d963c99bc096",
   "metadata": {},
   "outputs": [],
   "source": [
    "import pandas as pd\n",
    "import numpy as np\n",
    "import warnings\n",
    "warnings.filterwarnings('ignore')"
   ]
  },
  {
   "cell_type": "code",
   "execution_count": 2,
   "id": "6a03f597-3c4e-4f84-8312-e74c6f99d00f",
   "metadata": {},
   "outputs": [
    {
     "data": {
      "text/html": [
       "<div>\n",
       "<style scoped>\n",
       "    .dataframe tbody tr th:only-of-type {\n",
       "        vertical-align: middle;\n",
       "    }\n",
       "\n",
       "    .dataframe tbody tr th {\n",
       "        vertical-align: top;\n",
       "    }\n",
       "\n",
       "    .dataframe thead th {\n",
       "        text-align: right;\n",
       "    }\n",
       "</style>\n",
       "<table border=\"1\" class=\"dataframe\">\n",
       "  <thead>\n",
       "    <tr style=\"text-align: right;\">\n",
       "      <th></th>\n",
       "      <th>fraud_bool</th>\n",
       "      <th>income</th>\n",
       "      <th>name_email_similarity</th>\n",
       "      <th>prev_address_months_count</th>\n",
       "      <th>current_address_months_count</th>\n",
       "      <th>customer_age</th>\n",
       "      <th>days_since_request</th>\n",
       "      <th>intended_balcon_amount</th>\n",
       "      <th>payment_type</th>\n",
       "      <th>zip_count_4w</th>\n",
       "      <th>velocity_6h</th>\n",
       "      <th>velocity_24h</th>\n",
       "      <th>velocity_4w</th>\n",
       "      <th>bank_branch_count_8w</th>\n",
       "      <th>date_of_birth_distinct_emails_4w</th>\n",
       "      <th>employment_status</th>\n",
       "      <th>credit_risk_score</th>\n",
       "      <th>email_is_free</th>\n",
       "      <th>housing_status</th>\n",
       "      <th>phone_home_valid</th>\n",
       "      <th>phone_mobile_valid</th>\n",
       "      <th>bank_months_count</th>\n",
       "      <th>has_other_cards</th>\n",
       "      <th>proposed_credit_limit</th>\n",
       "      <th>foreign_request</th>\n",
       "      <th>source</th>\n",
       "      <th>session_length_in_minutes</th>\n",
       "      <th>device_os</th>\n",
       "      <th>keep_alive_session</th>\n",
       "      <th>device_distinct_emails_8w</th>\n",
       "      <th>device_fraud_count</th>\n",
       "      <th>month</th>\n",
       "    </tr>\n",
       "  </thead>\n",
       "  <tbody>\n",
       "    <tr>\n",
       "      <th>127883</th>\n",
       "      <td>0</td>\n",
       "      <td>0.6</td>\n",
       "      <td>0.782752</td>\n",
       "      <td>-1.0</td>\n",
       "      <td>64</td>\n",
       "      <td>40</td>\n",
       "      <td>0.012145</td>\n",
       "      <td>34.131559</td>\n",
       "      <td>AA</td>\n",
       "      <td>2197.0</td>\n",
       "      <td>8593.820696</td>\n",
       "      <td>7999.095085</td>\n",
       "      <td>6354.156485</td>\n",
       "      <td>14</td>\n",
       "      <td>5</td>\n",
       "      <td>CA</td>\n",
       "      <td>61</td>\n",
       "      <td>0.0</td>\n",
       "      <td>BE</td>\n",
       "      <td>1</td>\n",
       "      <td>1</td>\n",
       "      <td>20</td>\n",
       "      <td>0.0</td>\n",
       "      <td>1500.0</td>\n",
       "      <td>0.0</td>\n",
       "      <td>INTERNET</td>\n",
       "      <td>4.676838</td>\n",
       "      <td>NaN</td>\n",
       "      <td>1</td>\n",
       "      <td>1</td>\n",
       "      <td>0</td>\n",
       "      <td>0</td>\n",
       "    </tr>\n",
       "    <tr>\n",
       "      <th>781058</th>\n",
       "      <td>0</td>\n",
       "      <td>0.9</td>\n",
       "      <td>0.280203</td>\n",
       "      <td>-1.0</td>\n",
       "      <td>109</td>\n",
       "      <td>30</td>\n",
       "      <td>0.015137</td>\n",
       "      <td>-1.076745</td>\n",
       "      <td>AB</td>\n",
       "      <td>NaN</td>\n",
       "      <td>6010.504887</td>\n",
       "      <td>3025.726592</td>\n",
       "      <td>4235.403121</td>\n",
       "      <td>1811</td>\n",
       "      <td>6</td>\n",
       "      <td>CA</td>\n",
       "      <td>113</td>\n",
       "      <td>1.0</td>\n",
       "      <td>BC</td>\n",
       "      <td>1</td>\n",
       "      <td>0</td>\n",
       "      <td>21</td>\n",
       "      <td>0.0</td>\n",
       "      <td>200.0</td>\n",
       "      <td>0.0</td>\n",
       "      <td>INTERNET</td>\n",
       "      <td>1.951490</td>\n",
       "      <td>macintosh</td>\n",
       "      <td>1</td>\n",
       "      <td>1</td>\n",
       "      <td>0</td>\n",
       "      <td>5</td>\n",
       "    </tr>\n",
       "    <tr>\n",
       "      <th>788030</th>\n",
       "      <td>0</td>\n",
       "      <td>NaN</td>\n",
       "      <td>0.905730</td>\n",
       "      <td>NaN</td>\n",
       "      <td>53</td>\n",
       "      <td>40</td>\n",
       "      <td>0.030347</td>\n",
       "      <td>-0.713398</td>\n",
       "      <td>AB</td>\n",
       "      <td>NaN</td>\n",
       "      <td>3133.246654</td>\n",
       "      <td>6903.735574</td>\n",
       "      <td>4234.284120</td>\n",
       "      <td>20</td>\n",
       "      <td>3</td>\n",
       "      <td>CA</td>\n",
       "      <td>166</td>\n",
       "      <td>1.0</td>\n",
       "      <td>BC</td>\n",
       "      <td>0</td>\n",
       "      <td>1</td>\n",
       "      <td>1</td>\n",
       "      <td>1.0</td>\n",
       "      <td>200.0</td>\n",
       "      <td>0.0</td>\n",
       "      <td>INTERNET</td>\n",
       "      <td>11.283453</td>\n",
       "      <td>windows</td>\n",
       "      <td>0</td>\n",
       "      <td>1</td>\n",
       "      <td>0</td>\n",
       "      <td>5</td>\n",
       "    </tr>\n",
       "    <tr>\n",
       "      <th>79777</th>\n",
       "      <td>0</td>\n",
       "      <td>0.7</td>\n",
       "      <td>0.861901</td>\n",
       "      <td>-1.0</td>\n",
       "      <td>366</td>\n",
       "      <td>50</td>\n",
       "      <td>0.008905</td>\n",
       "      <td>11.967350</td>\n",
       "      <td>AA</td>\n",
       "      <td>3367.0</td>\n",
       "      <td>8300.298054</td>\n",
       "      <td>6611.115092</td>\n",
       "      <td>5910.213222</td>\n",
       "      <td>2058</td>\n",
       "      <td>5</td>\n",
       "      <td>CA</td>\n",
       "      <td>316</td>\n",
       "      <td>0.0</td>\n",
       "      <td>BA</td>\n",
       "      <td>1</td>\n",
       "      <td>0</td>\n",
       "      <td>20</td>\n",
       "      <td>1.0</td>\n",
       "      <td>1500.0</td>\n",
       "      <td>0.0</td>\n",
       "      <td>INTERNET</td>\n",
       "      <td>4.291204</td>\n",
       "      <td>linux</td>\n",
       "      <td>0</td>\n",
       "      <td>1</td>\n",
       "      <td>0</td>\n",
       "      <td>0</td>\n",
       "    </tr>\n",
       "    <tr>\n",
       "      <th>943830</th>\n",
       "      <td>0</td>\n",
       "      <td>0.4</td>\n",
       "      <td>0.912287</td>\n",
       "      <td>52.0</td>\n",
       "      <td>23</td>\n",
       "      <td>30</td>\n",
       "      <td>0.018906</td>\n",
       "      <td>-0.714729</td>\n",
       "      <td>AB</td>\n",
       "      <td>731.0</td>\n",
       "      <td>6835.702075</td>\n",
       "      <td>6371.573444</td>\n",
       "      <td>5649.737663</td>\n",
       "      <td>12</td>\n",
       "      <td>9</td>\n",
       "      <td>CA</td>\n",
       "      <td>227</td>\n",
       "      <td>0.0</td>\n",
       "      <td>BC</td>\n",
       "      <td>0</td>\n",
       "      <td>1</td>\n",
       "      <td>6</td>\n",
       "      <td>0.0</td>\n",
       "      <td>1000.0</td>\n",
       "      <td>NaN</td>\n",
       "      <td>INTERNET</td>\n",
       "      <td>9.274842</td>\n",
       "      <td>other</td>\n",
       "      <td>1</td>\n",
       "      <td>1</td>\n",
       "      <td>0</td>\n",
       "      <td>7</td>\n",
       "    </tr>\n",
       "  </tbody>\n",
       "</table>\n",
       "</div>"
      ],
      "text/plain": [
       "        fraud_bool  income  name_email_similarity  prev_address_months_count  \\\n",
       "127883           0     0.6               0.782752                       -1.0   \n",
       "781058           0     0.9               0.280203                       -1.0   \n",
       "788030           0     NaN               0.905730                        NaN   \n",
       "79777            0     0.7               0.861901                       -1.0   \n",
       "943830           0     0.4               0.912287                       52.0   \n",
       "\n",
       "        current_address_months_count  customer_age  days_since_request  \\\n",
       "127883                            64            40            0.012145   \n",
       "781058                           109            30            0.015137   \n",
       "788030                            53            40            0.030347   \n",
       "79777                            366            50            0.008905   \n",
       "943830                            23            30            0.018906   \n",
       "\n",
       "        intended_balcon_amount payment_type  zip_count_4w  velocity_6h  \\\n",
       "127883               34.131559           AA        2197.0  8593.820696   \n",
       "781058               -1.076745           AB           NaN  6010.504887   \n",
       "788030               -0.713398           AB           NaN  3133.246654   \n",
       "79777                11.967350           AA        3367.0  8300.298054   \n",
       "943830               -0.714729           AB         731.0  6835.702075   \n",
       "\n",
       "        velocity_24h  velocity_4w  bank_branch_count_8w  \\\n",
       "127883   7999.095085  6354.156485                    14   \n",
       "781058   3025.726592  4235.403121                  1811   \n",
       "788030   6903.735574  4234.284120                    20   \n",
       "79777    6611.115092  5910.213222                  2058   \n",
       "943830   6371.573444  5649.737663                    12   \n",
       "\n",
       "        date_of_birth_distinct_emails_4w employment_status  credit_risk_score  \\\n",
       "127883                                 5                CA                 61   \n",
       "781058                                 6                CA                113   \n",
       "788030                                 3                CA                166   \n",
       "79777                                  5                CA                316   \n",
       "943830                                 9                CA                227   \n",
       "\n",
       "        email_is_free housing_status  phone_home_valid  phone_mobile_valid  \\\n",
       "127883            0.0             BE                 1                   1   \n",
       "781058            1.0             BC                 1                   0   \n",
       "788030            1.0             BC                 0                   1   \n",
       "79777             0.0             BA                 1                   0   \n",
       "943830            0.0             BC                 0                   1   \n",
       "\n",
       "        bank_months_count  has_other_cards  proposed_credit_limit  \\\n",
       "127883                 20              0.0                 1500.0   \n",
       "781058                 21              0.0                  200.0   \n",
       "788030                  1              1.0                  200.0   \n",
       "79777                  20              1.0                 1500.0   \n",
       "943830                  6              0.0                 1000.0   \n",
       "\n",
       "        foreign_request    source  session_length_in_minutes  device_os  \\\n",
       "127883              0.0  INTERNET                   4.676838        NaN   \n",
       "781058              0.0  INTERNET                   1.951490  macintosh   \n",
       "788030              0.0  INTERNET                  11.283453    windows   \n",
       "79777               0.0  INTERNET                   4.291204      linux   \n",
       "943830              NaN  INTERNET                   9.274842      other   \n",
       "\n",
       "        keep_alive_session  device_distinct_emails_8w  device_fraud_count  \\\n",
       "127883                   1                          1                   0   \n",
       "781058                   1                          1                   0   \n",
       "788030                   0                          1                   0   \n",
       "79777                    0                          1                   0   \n",
       "943830                   1                          1                   0   \n",
       "\n",
       "        month  \n",
       "127883      0  \n",
       "781058      5  \n",
       "788030      5  \n",
       "79777       0  \n",
       "943830      7  "
      ]
     },
     "execution_count": 2,
     "metadata": {},
     "output_type": "execute_result"
    }
   ],
   "source": [
    "df = pd.read_csv('raw_data.csv')\n",
    "pd.set_option('display.max_columns', None)\n",
    "pd.set_option('display.max_rows', None)\n",
    "\n",
    "df.sample(5)"
   ]
  },
  {
   "cell_type": "code",
   "execution_count": 3,
   "id": "6ffca5be-58a5-4568-b6af-9c0a0c4be379",
   "metadata": {},
   "outputs": [
    {
     "data": {
      "text/plain": [
       "(1000000, 32)"
      ]
     },
     "execution_count": 3,
     "metadata": {},
     "output_type": "execute_result"
    }
   ],
   "source": [
    "df.shape"
   ]
  },
  {
   "cell_type": "code",
   "execution_count": 4,
   "id": "e0691e44-81ac-41f0-859f-a6c9ea1b9055",
   "metadata": {},
   "outputs": [
    {
     "name": "stdout",
     "output_type": "stream",
     "text": [
      "<class 'pandas.core.frame.DataFrame'>\n",
      "RangeIndex: 1000000 entries, 0 to 999999\n",
      "Data columns (total 32 columns):\n",
      " #   Column                            Non-Null Count    Dtype  \n",
      "---  ------                            --------------    -----  \n",
      " 0   fraud_bool                        1000000 non-null  int64  \n",
      " 1   income                            845429 non-null   float64\n",
      " 2   name_email_similarity             878761 non-null   float64\n",
      " 3   prev_address_months_count         537360 non-null   float64\n",
      " 4   current_address_months_count      1000000 non-null  int64  \n",
      " 5   customer_age                      1000000 non-null  int64  \n",
      " 6   days_since_request                1000000 non-null  float64\n",
      " 7   intended_balcon_amount            859130 non-null   float64\n",
      " 8   payment_type                      1000000 non-null  object \n",
      " 9   zip_count_4w                      676304 non-null   float64\n",
      " 10  velocity_6h                       1000000 non-null  float64\n",
      " 11  velocity_24h                      1000000 non-null  float64\n",
      " 12  velocity_4w                       1000000 non-null  float64\n",
      " 13  bank_branch_count_8w              1000000 non-null  int64  \n",
      " 14  date_of_birth_distinct_emails_4w  1000000 non-null  int64  \n",
      " 15  employment_status                 699888 non-null   object \n",
      " 16  credit_risk_score                 1000000 non-null  int64  \n",
      " 17  email_is_free                     824267 non-null   float64\n",
      " 18  housing_status                    1000000 non-null  object \n",
      " 19  phone_home_valid                  1000000 non-null  int64  \n",
      " 20  phone_mobile_valid                1000000 non-null  int64  \n",
      " 21  bank_months_count                 1000000 non-null  int64  \n",
      " 22  has_other_cards                   890909 non-null   float64\n",
      " 23  proposed_credit_limit             1000000 non-null  float64\n",
      " 24  foreign_request                   781577 non-null   float64\n",
      " 25  source                            1000000 non-null  object \n",
      " 26  session_length_in_minutes         1000000 non-null  float64\n",
      " 27  device_os                         706131 non-null   object \n",
      " 28  keep_alive_session                1000000 non-null  int64  \n",
      " 29  device_distinct_emails_8w         1000000 non-null  int64  \n",
      " 30  device_fraud_count                1000000 non-null  int64  \n",
      " 31  month                             1000000 non-null  int64  \n",
      "dtypes: float64(14), int64(13), object(5)\n",
      "memory usage: 244.1+ MB\n"
     ]
    }
   ],
   "source": [
    "df.info()"
   ]
  },
  {
   "cell_type": "code",
   "execution_count": 5,
   "id": "8ccb40e3-408a-4df5-978e-fcee762d833e",
   "metadata": {},
   "outputs": [
    {
     "data": {
      "text/plain": [
       "fraud_bool\n",
       "0    988971\n",
       "1     11029\n",
       "Name: count, dtype: int64"
      ]
     },
     "execution_count": 5,
     "metadata": {},
     "output_type": "execute_result"
    }
   ],
   "source": [
    "df['fraud_bool'].value_counts()"
   ]
  },
  {
   "cell_type": "code",
   "execution_count": 6,
   "id": "caceffbc-d646-41fd-ba58-2da6ff3a6bc0",
   "metadata": {},
   "outputs": [],
   "source": [
    "missing_percent = df.isnull().mean() * 100\n",
    "\n",
    "missing_data = missing_percent[missing_percent > 0]\n",
    "missing_data = missing_data.sort_values(ascending=False)"
   ]
  },
  {
   "cell_type": "code",
   "execution_count": 7,
   "id": "5750c3a5-1bf0-486b-8598-2bb224ba47e3",
   "metadata": {},
   "outputs": [
    {
     "data": {
      "text/plain": [
       "prev_address_months_count    46.2640\n",
       "zip_count_4w                 32.3696\n",
       "employment_status            30.0112\n",
       "device_os                    29.3869\n",
       "foreign_request              21.8423\n",
       "email_is_free                17.5733\n",
       "income                       15.4571\n",
       "intended_balcon_amount       14.0870\n",
       "name_email_similarity        12.1239\n",
       "has_other_cards              10.9091\n",
       "dtype: float64"
      ]
     },
     "execution_count": 7,
     "metadata": {},
     "output_type": "execute_result"
    }
   ],
   "source": [
    "missing_data"
   ]
  },
  {
   "cell_type": "code",
   "execution_count": 8,
   "id": "f7ef55b9-c130-4bdd-bafb-14ece090f2b8",
   "metadata": {},
   "outputs": [],
   "source": [
    "obj_cols = [i for i in df.columns if df[i].dtypes == 'object']\n",
    "int_cols = [i for i in df.columns if df[i].dtypes != 'object' and i!='fraud_bool']"
   ]
  },
  {
   "cell_type": "code",
   "execution_count": 9,
   "id": "698752c2-7989-4130-8fcc-0cbbd3b5e49a",
   "metadata": {
    "scrolled": true
   },
   "outputs": [
    {
     "data": {
      "text/plain": [
       "['income',\n",
       " 'name_email_similarity',\n",
       " 'prev_address_months_count',\n",
       " 'current_address_months_count',\n",
       " 'customer_age',\n",
       " 'days_since_request',\n",
       " 'intended_balcon_amount',\n",
       " 'zip_count_4w',\n",
       " 'velocity_6h',\n",
       " 'velocity_24h',\n",
       " 'velocity_4w',\n",
       " 'bank_branch_count_8w',\n",
       " 'date_of_birth_distinct_emails_4w',\n",
       " 'credit_risk_score',\n",
       " 'email_is_free',\n",
       " 'phone_home_valid',\n",
       " 'phone_mobile_valid',\n",
       " 'bank_months_count',\n",
       " 'has_other_cards',\n",
       " 'proposed_credit_limit',\n",
       " 'foreign_request',\n",
       " 'session_length_in_minutes',\n",
       " 'keep_alive_session',\n",
       " 'device_distinct_emails_8w',\n",
       " 'device_fraud_count',\n",
       " 'month']"
      ]
     },
     "execution_count": 9,
     "metadata": {},
     "output_type": "execute_result"
    }
   ],
   "source": [
    "int_cols"
   ]
  },
  {
   "cell_type": "code",
   "execution_count": 10,
   "id": "80164533-c79f-4d3f-8bb4-11ebfab3ad6c",
   "metadata": {},
   "outputs": [],
   "source": [
    "## Missing values in int\n",
    "\n",
    "missing_percent_int = df[int_cols].isnull().mean() * 100\n",
    "\n",
    "missing_data_int = missing_percent_int[missing_percent_int > 0]\n",
    "missing_data_int = missing_data_int.sort_values(ascending=False)"
   ]
  },
  {
   "cell_type": "code",
   "execution_count": 11,
   "id": "0db4905e-b3ab-48b1-a923-cc6955b21ed4",
   "metadata": {},
   "outputs": [
    {
     "data": {
      "text/plain": [
       "prev_address_months_count    46.2640\n",
       "zip_count_4w                 32.3696\n",
       "foreign_request              21.8423\n",
       "email_is_free                17.5733\n",
       "income                       15.4571\n",
       "intended_balcon_amount       14.0870\n",
       "name_email_similarity        12.1239\n",
       "has_other_cards              10.9091\n",
       "dtype: float64"
      ]
     },
     "execution_count": 11,
     "metadata": {},
     "output_type": "execute_result"
    }
   ],
   "source": [
    "missing_data_int"
   ]
  },
  {
   "cell_type": "code",
   "execution_count": 12,
   "id": "89cf1513-9bfd-4956-a2f1-4e42ece0096f",
   "metadata": {},
   "outputs": [],
   "source": [
    "## Missing values in categorical\n",
    "\n",
    "missing_percent_obj = df[obj_cols].isnull().mean() * 100\n",
    "\n",
    "missing_data_obj = missing_percent_obj[missing_percent_obj > 0]\n",
    "missing_data_obj = missing_percent_obj.sort_values(ascending=False)"
   ]
  },
  {
   "cell_type": "code",
   "execution_count": 13,
   "id": "0adc8015-cb4c-4b00-9e1e-27bead6f0a61",
   "metadata": {},
   "outputs": [
    {
     "data": {
      "text/plain": [
       "employment_status    30.0112\n",
       "device_os            29.3869\n",
       "payment_type          0.0000\n",
       "housing_status        0.0000\n",
       "source                0.0000\n",
       "dtype: float64"
      ]
     },
     "execution_count": 13,
     "metadata": {},
     "output_type": "execute_result"
    }
   ],
   "source": [
    "missing_data_obj"
   ]
  },
  {
   "cell_type": "code",
   "execution_count": 14,
   "id": "145656b7-d96b-4ab9-8629-914c8d33234f",
   "metadata": {},
   "outputs": [],
   "source": [
    "from sklearn.impute import SimpleImputer\n",
    "from sklearn.preprocessing import StandardScaler\n",
    "from sklearn.preprocessing import OrdinalEncoder,OneHotEncoder\n",
    "from sklearn.pipeline import Pipeline\n",
    "from sklearn.compose import ColumnTransformer"
   ]
  },
  {
   "cell_type": "code",
   "execution_count": 15,
   "id": "e11d7844-59c1-4d91-90e2-4c0bd26c184e",
   "metadata": {},
   "outputs": [],
   "source": [
    "numerical_pipeline=Pipeline(steps=[\n",
    "    ('impute',SimpleImputer(strategy='mean'))\n",
    "])\n",
    "\n",
    "# categorical pipeline\n",
    "\n",
    "categorical_pipeline=Pipeline(steps=[\n",
    "    ('impute',SimpleImputer(strategy='most_frequent')),\n",
    "    ('ohe_impute', OneHotEncoder())\n",
    "])"
   ]
  },
  {
   "cell_type": "code",
   "execution_count": 16,
   "id": "f2fe72b0-b69f-4afd-b6ba-7c30dd5fa8c6",
   "metadata": {},
   "outputs": [],
   "source": [
    "preprocessor =ColumnTransformer([\n",
    "    ('numerical_pipeline',numerical_pipeline,int_cols),\n",
    "    ('categorical_pipeline',categorical_pipeline,obj_cols)\n",
    "])"
   ]
  },
  {
   "cell_type": "code",
   "execution_count": 17,
   "id": "7eeeedcb-6d05-4c79-9147-6ff2a54a0fab",
   "metadata": {},
   "outputs": [],
   "source": [
    "from sklearn.model_selection import train_test_split"
   ]
  },
  {
   "cell_type": "code",
   "execution_count": 18,
   "id": "26bd4cb9-b59c-4ef8-ac3e-d1f3f76bb545",
   "metadata": {},
   "outputs": [],
   "source": [
    "df_train, df_test = train_test_split(df, test_size=0.2)"
   ]
  },
  {
   "cell_type": "code",
   "execution_count": 19,
   "id": "7c4d8d91-a2ef-424f-8a80-0ef8defeeaa2",
   "metadata": {},
   "outputs": [],
   "source": [
    "y_train = df_train[['fraud_bool']]\n",
    "X_train = df_train.drop(['fraud_bool'],axis=1)\n",
    "\n",
    "y_test = df_test[['fraud_bool']]\n",
    "X_test = df_test.drop(['fraud_bool'],axis=1)"
   ]
  },
  {
   "cell_type": "code",
   "execution_count": 20,
   "id": "a44864f1-69b9-4b92-bb8c-91c74b8eaae7",
   "metadata": {},
   "outputs": [],
   "source": [
    "X_train=preprocessor.fit_transform(X_train)\n",
    "X_test=preprocessor.transform(X_test)"
   ]
  },
  {
   "cell_type": "code",
   "execution_count": 21,
   "id": "03d38ce8-3494-46f4-bb92-58fa69edd2ac",
   "metadata": {},
   "outputs": [],
   "source": [
    "from sklearn.linear_model import LogisticRegression\n",
    "lr = LogisticRegression(n_jobs=-1, class_weight={0:1,1:90})"
   ]
  },
  {
   "cell_type": "code",
   "execution_count": 22,
   "id": "09402725-db40-46b0-8d10-27f31aeaa2dd",
   "metadata": {},
   "outputs": [
    {
     "data": {
      "text/html": [
       "<pre style=\"white-space:pre;overflow-x:auto;line-height:normal;font-family:Menlo,'DejaVu Sans Mono',consolas,'Courier New',monospace\">Accessing as SrijanDeo-DA-DS\n",
       "</pre>\n"
      ],
      "text/plain": [
       "Accessing as SrijanDeo-DA-DS\n"
      ]
     },
     "metadata": {},
     "output_type": "display_data"
    },
    {
     "data": {
      "text/html": [
       "<pre style=\"white-space:pre;overflow-x:auto;line-height:normal;font-family:Menlo,'DejaVu Sans Mono',consolas,'Courier New',monospace\">Initialized MLflow to track repo <span style=\"color: #008000; text-decoration-color: #008000\">\"SrijanDeo-DA-DS/bank-fraud-detection-with-deployment\"</span>\n",
       "</pre>\n"
      ],
      "text/plain": [
       "Initialized MLflow to track repo \u001b[32m\"SrijanDeo-DA-DS/bank-fraud-detection-with-deployment\"\u001b[0m\n"
      ]
     },
     "metadata": {},
     "output_type": "display_data"
    },
    {
     "data": {
      "text/html": [
       "<pre style=\"white-space:pre;overflow-x:auto;line-height:normal;font-family:Menlo,'DejaVu Sans Mono',consolas,'Courier New',monospace\">Repository SrijanDeo-DA-DS/bank-fraud-detection-with-deployment initialized!\n",
       "</pre>\n"
      ],
      "text/plain": [
       "Repository SrijanDeo-DA-DS/bank-fraud-detection-with-deployment initialized!\n"
      ]
     },
     "metadata": {},
     "output_type": "display_data"
    },
    {
     "data": {
      "text/plain": [
       "<Experiment: artifact_location='mlflow-artifacts:/042e9950f11b4e43884885fd6be1ad55', creation_time=1729827384549, experiment_id='1', last_update_time=1729827384549, lifecycle_stage='active', name='Logistic Regression Baseline', tags={}>"
      ]
     },
     "execution_count": 22,
     "metadata": {},
     "output_type": "execute_result"
    }
   ],
   "source": [
    "## Dagshub setup\n",
    "import dagshub\n",
    "import mlflow\n",
    "dagshub.init(repo_owner='SrijanDeo-DA-DS', repo_name='bank-fraud-detection-with-deployment', mlflow=True)\n",
    "mlflow.set_tracking_uri('https://dagshub.com/SrijanDeo-DA-DS/bank-fraud-detection-with-deployment.mlflow')\n",
    "\n",
    "mlflow.set_experiment(\"Logistic Regression Baseline\")"
   ]
  },
  {
   "cell_type": "code",
   "execution_count": 23,
   "id": "d6e16dab-e912-47a3-935d-b5ce617e3c15",
   "metadata": {},
   "outputs": [],
   "source": [
    "from sklearn.metrics import recall_score, classification_report"
   ]
  },
  {
   "cell_type": "code",
   "execution_count": 24,
   "id": "b915944a-1656-4374-9dd0-32aa8a93328e",
   "metadata": {},
   "outputs": [
    {
     "name": "stdout",
     "output_type": "stream",
     "text": [
      "Train data recall score -  0.6708399726838151\n",
      "Test data recall score -  0.6740971912617031\n",
      "Train data classification report -                precision    recall  f1-score   support\n",
      "\n",
      "           0       0.99      0.67      0.80    791214\n",
      "           1       0.02      0.67      0.04      8786\n",
      "\n",
      "    accuracy                           0.67    800000\n",
      "   macro avg       0.51      0.67      0.42    800000\n",
      "weighted avg       0.98      0.67      0.79    800000\n",
      "\n",
      "Test data classification report -                precision    recall  f1-score   support\n",
      "\n",
      "           0       0.99      0.67      0.80    197757\n",
      "           1       0.02      0.67      0.04      2243\n",
      "\n",
      "    accuracy                           0.67    200000\n",
      "   macro avg       0.51      0.67      0.42    200000\n",
      "weighted avg       0.98      0.67      0.79    200000\n",
      "\n"
     ]
    },
    {
     "name": "stderr",
     "output_type": "stream",
     "text": [
      "2024/10/29 23:13:49 WARNING mlflow.models.model: Model logged without a signature and input example. Please set `input_example` parameter when logging the model to auto infer the model signature.\n",
      "2024/10/29 23:14:00 INFO mlflow.tracking._tracking_service.client: 🏃 View run respected-stoat-588 at: https://dagshub.com/SrijanDeo-DA-DS/bank-fraud-detection-with-deployment.mlflow/#/experiments/1/runs/3e0a5ddff27148c7af57201ee8624b2d.\n",
      "2024/10/29 23:14:00 INFO mlflow.tracking._tracking_service.client: 🧪 View experiment at: https://dagshub.com/SrijanDeo-DA-DS/bank-fraud-detection-with-deployment.mlflow/#/experiments/1.\n"
     ]
    }
   ],
   "source": [
    "with mlflow.start_run():\n",
    "    ## log preprocessing paramters\n",
    "    mlflow.log_param(\"test_size\",0.2)\n",
    "\n",
    "    ## model building\n",
    "    lr.fit(X_train, y_train)\n",
    "\n",
    "    ## log model\n",
    "    mlflow.log_param(\"model\", \"Logistic Regression\")\n",
    "\n",
    "    y_pred_train = lr.predict(X_train)\n",
    "    y_pred_test = lr.predict(X_test)\n",
    "\n",
    "    # logging recall (can log other metrics too)\n",
    "    mlflow.log_metric(\"recall-train-data\", recall_score(y_train, y_pred_train))\n",
    "    mlflow.log_metric(\"recall-test-data\", recall_score(y_test, y_pred_test))\n",
    "\n",
    "    # logging classification report\n",
    "    #mlflow.log_metric(\"classification_report-train-data\", classification_report(y_train, y_pred_train))\n",
    "    #mlflow.log_metric(\"classification-report-test-data\", classification_report(y_test, y_pred_test))    \n",
    "\n",
    "    # print recall\n",
    "    print(\"Train data recall score - \",recall_score(y_train, y_pred_train))\n",
    "    print(\"Test data recall score - \",recall_score(y_test, y_pred_test))\n",
    "\n",
    "    # print classification report\n",
    "    print(\"Train data classification report - \",classification_report(y_train, y_pred_train))\n",
    "    print(\"Test data classification report - \",classification_report(y_test, y_pred_test))   \n",
    "\n",
    "    # log model\n",
    "    mlflow.sklearn.log_model(lr, \"model\")\n",
    "\n",
    "    # log notebook\n",
    "    import os\n",
    "    notebook_path = \"exp1_baseline_model.ipynb\"\n",
    "    os.system(f\"Jupyer nbconvert --to notebook --execute --inplace {notebook_path}\")\n",
    "    mlflow.log_artifact(notebook_path)\n",
    "\n"
   ]
  },
  {
   "cell_type": "code",
   "execution_count": null,
   "id": "5a8f0314-6503-4b1a-a774-f5531a077d6c",
   "metadata": {},
   "outputs": [],
   "source": []
  }
 ],
 "metadata": {
  "kernelspec": {
   "display_name": "Python 3 (ipykernel)",
   "language": "python",
   "name": "python3"
  },
  "language_info": {
   "codemirror_mode": {
    "name": "ipython",
    "version": 3
   },
   "file_extension": ".py",
   "mimetype": "text/x-python",
   "name": "python",
   "nbconvert_exporter": "python",
   "pygments_lexer": "ipython3",
   "version": "3.11.7"
  }
 },
 "nbformat": 4,
 "nbformat_minor": 5
}
