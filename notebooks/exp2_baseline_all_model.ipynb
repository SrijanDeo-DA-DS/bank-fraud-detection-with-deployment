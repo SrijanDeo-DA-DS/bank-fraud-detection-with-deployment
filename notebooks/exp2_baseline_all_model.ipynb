{
 "cells": [
  {
   "cell_type": "code",
   "execution_count": 34,
   "id": "c3e722ac-2727-4468-8412-d963c99bc096",
   "metadata": {},
   "outputs": [],
   "source": [
    "import pandas as pd\n",
    "import numpy as np\n",
    "import warnings\n",
    "warnings.filterwarnings('ignore')"
   ]
  },
  {
   "cell_type": "code",
   "execution_count": 35,
   "id": "6a03f597-3c4e-4f84-8312-e74c6f99d00f",
   "metadata": {},
   "outputs": [
    {
     "data": {
      "text/html": [
       "<div>\n",
       "<style scoped>\n",
       "    .dataframe tbody tr th:only-of-type {\n",
       "        vertical-align: middle;\n",
       "    }\n",
       "\n",
       "    .dataframe tbody tr th {\n",
       "        vertical-align: top;\n",
       "    }\n",
       "\n",
       "    .dataframe thead th {\n",
       "        text-align: right;\n",
       "    }\n",
       "</style>\n",
       "<table border=\"1\" class=\"dataframe\">\n",
       "  <thead>\n",
       "    <tr style=\"text-align: right;\">\n",
       "      <th></th>\n",
       "      <th>fraud_bool</th>\n",
       "      <th>income</th>\n",
       "      <th>name_email_similarity</th>\n",
       "      <th>prev_address_months_count</th>\n",
       "      <th>current_address_months_count</th>\n",
       "      <th>customer_age</th>\n",
       "      <th>days_since_request</th>\n",
       "      <th>intended_balcon_amount</th>\n",
       "      <th>payment_type</th>\n",
       "      <th>zip_count_4w</th>\n",
       "      <th>velocity_6h</th>\n",
       "      <th>velocity_24h</th>\n",
       "      <th>velocity_4w</th>\n",
       "      <th>bank_branch_count_8w</th>\n",
       "      <th>date_of_birth_distinct_emails_4w</th>\n",
       "      <th>employment_status</th>\n",
       "      <th>credit_risk_score</th>\n",
       "      <th>email_is_free</th>\n",
       "      <th>housing_status</th>\n",
       "      <th>phone_home_valid</th>\n",
       "      <th>phone_mobile_valid</th>\n",
       "      <th>bank_months_count</th>\n",
       "      <th>has_other_cards</th>\n",
       "      <th>proposed_credit_limit</th>\n",
       "      <th>foreign_request</th>\n",
       "      <th>source</th>\n",
       "      <th>session_length_in_minutes</th>\n",
       "      <th>device_os</th>\n",
       "      <th>keep_alive_session</th>\n",
       "      <th>device_distinct_emails_8w</th>\n",
       "      <th>device_fraud_count</th>\n",
       "      <th>month</th>\n",
       "    </tr>\n",
       "  </thead>\n",
       "  <tbody>\n",
       "    <tr>\n",
       "      <th>3658</th>\n",
       "      <td>0</td>\n",
       "      <td>0.4</td>\n",
       "      <td>0.107253</td>\n",
       "      <td>121.0</td>\n",
       "      <td>21</td>\n",
       "      <td>30</td>\n",
       "      <td>0.025142</td>\n",
       "      <td>13.423145</td>\n",
       "      <td>AA</td>\n",
       "      <td>1503.0</td>\n",
       "      <td>4758.576721</td>\n",
       "      <td>6822.506156</td>\n",
       "      <td>6687.497576</td>\n",
       "      <td>39</td>\n",
       "      <td>11</td>\n",
       "      <td>CA</td>\n",
       "      <td>53</td>\n",
       "      <td>0.0</td>\n",
       "      <td>BC</td>\n",
       "      <td>0</td>\n",
       "      <td>0</td>\n",
       "      <td>28</td>\n",
       "      <td>NaN</td>\n",
       "      <td>200.0</td>\n",
       "      <td>0.0</td>\n",
       "      <td>INTERNET</td>\n",
       "      <td>46.051438</td>\n",
       "      <td>other</td>\n",
       "      <td>1</td>\n",
       "      <td>1</td>\n",
       "      <td>0</td>\n",
       "      <td>0</td>\n",
       "    </tr>\n",
       "    <tr>\n",
       "      <th>806217</th>\n",
       "      <td>0</td>\n",
       "      <td>0.9</td>\n",
       "      <td>0.251269</td>\n",
       "      <td>-1.0</td>\n",
       "      <td>205</td>\n",
       "      <td>50</td>\n",
       "      <td>0.021359</td>\n",
       "      <td>-1.488786</td>\n",
       "      <td>AC</td>\n",
       "      <td>587.0</td>\n",
       "      <td>3422.957120</td>\n",
       "      <td>2558.529483</td>\n",
       "      <td>4324.110085</td>\n",
       "      <td>0</td>\n",
       "      <td>5</td>\n",
       "      <td>CA</td>\n",
       "      <td>201</td>\n",
       "      <td>0.0</td>\n",
       "      <td>BE</td>\n",
       "      <td>0</td>\n",
       "      <td>1</td>\n",
       "      <td>-1</td>\n",
       "      <td>1.0</td>\n",
       "      <td>500.0</td>\n",
       "      <td>0.0</td>\n",
       "      <td>INTERNET</td>\n",
       "      <td>50.182321</td>\n",
       "      <td>windows</td>\n",
       "      <td>1</td>\n",
       "      <td>1</td>\n",
       "      <td>0</td>\n",
       "      <td>6</td>\n",
       "    </tr>\n",
       "    <tr>\n",
       "      <th>911233</th>\n",
       "      <td>0</td>\n",
       "      <td>0.2</td>\n",
       "      <td>NaN</td>\n",
       "      <td>-1.0</td>\n",
       "      <td>34</td>\n",
       "      <td>20</td>\n",
       "      <td>0.000178</td>\n",
       "      <td>-1.265740</td>\n",
       "      <td>AC</td>\n",
       "      <td>1176.0</td>\n",
       "      <td>4641.493717</td>\n",
       "      <td>2595.291070</td>\n",
       "      <td>3122.983299</td>\n",
       "      <td>0</td>\n",
       "      <td>4</td>\n",
       "      <td>CB</td>\n",
       "      <td>117</td>\n",
       "      <td>0.0</td>\n",
       "      <td>BE</td>\n",
       "      <td>0</td>\n",
       "      <td>1</td>\n",
       "      <td>-1</td>\n",
       "      <td>0.0</td>\n",
       "      <td>200.0</td>\n",
       "      <td>0.0</td>\n",
       "      <td>INTERNET</td>\n",
       "      <td>3.175939</td>\n",
       "      <td>NaN</td>\n",
       "      <td>0</td>\n",
       "      <td>1</td>\n",
       "      <td>0</td>\n",
       "      <td>7</td>\n",
       "    </tr>\n",
       "    <tr>\n",
       "      <th>475157</th>\n",
       "      <td>0</td>\n",
       "      <td>NaN</td>\n",
       "      <td>0.631089</td>\n",
       "      <td>94.0</td>\n",
       "      <td>19</td>\n",
       "      <td>30</td>\n",
       "      <td>0.021439</td>\n",
       "      <td>-0.072525</td>\n",
       "      <td>AC</td>\n",
       "      <td>2445.0</td>\n",
       "      <td>5914.122333</td>\n",
       "      <td>5188.253270</td>\n",
       "      <td>5101.730131</td>\n",
       "      <td>1</td>\n",
       "      <td>20</td>\n",
       "      <td>NaN</td>\n",
       "      <td>152</td>\n",
       "      <td>0.0</td>\n",
       "      <td>BC</td>\n",
       "      <td>0</td>\n",
       "      <td>1</td>\n",
       "      <td>-1</td>\n",
       "      <td>0.0</td>\n",
       "      <td>1000.0</td>\n",
       "      <td>NaN</td>\n",
       "      <td>INTERNET</td>\n",
       "      <td>4.737515</td>\n",
       "      <td>windows</td>\n",
       "      <td>1</td>\n",
       "      <td>1</td>\n",
       "      <td>0</td>\n",
       "      <td>3</td>\n",
       "    </tr>\n",
       "    <tr>\n",
       "      <th>514356</th>\n",
       "      <td>0</td>\n",
       "      <td>0.7</td>\n",
       "      <td>0.531417</td>\n",
       "      <td>NaN</td>\n",
       "      <td>43</td>\n",
       "      <td>50</td>\n",
       "      <td>0.019497</td>\n",
       "      <td>-1.174150</td>\n",
       "      <td>AB</td>\n",
       "      <td>1500.0</td>\n",
       "      <td>5587.453063</td>\n",
       "      <td>5004.210703</td>\n",
       "      <td>4863.498248</td>\n",
       "      <td>1854</td>\n",
       "      <td>8</td>\n",
       "      <td>NaN</td>\n",
       "      <td>324</td>\n",
       "      <td>NaN</td>\n",
       "      <td>BB</td>\n",
       "      <td>0</td>\n",
       "      <td>1</td>\n",
       "      <td>11</td>\n",
       "      <td>1.0</td>\n",
       "      <td>1500.0</td>\n",
       "      <td>0.0</td>\n",
       "      <td>INTERNET</td>\n",
       "      <td>11.839913</td>\n",
       "      <td>other</td>\n",
       "      <td>0</td>\n",
       "      <td>1</td>\n",
       "      <td>0</td>\n",
       "      <td>3</td>\n",
       "    </tr>\n",
       "  </tbody>\n",
       "</table>\n",
       "</div>"
      ],
      "text/plain": [
       "        fraud_bool  income  name_email_similarity  prev_address_months_count  \\\n",
       "3658             0     0.4               0.107253                      121.0   \n",
       "806217           0     0.9               0.251269                       -1.0   \n",
       "911233           0     0.2                    NaN                       -1.0   \n",
       "475157           0     NaN               0.631089                       94.0   \n",
       "514356           0     0.7               0.531417                        NaN   \n",
       "\n",
       "        current_address_months_count  customer_age  days_since_request  \\\n",
       "3658                              21            30            0.025142   \n",
       "806217                           205            50            0.021359   \n",
       "911233                            34            20            0.000178   \n",
       "475157                            19            30            0.021439   \n",
       "514356                            43            50            0.019497   \n",
       "\n",
       "        intended_balcon_amount payment_type  zip_count_4w  velocity_6h  \\\n",
       "3658                 13.423145           AA        1503.0  4758.576721   \n",
       "806217               -1.488786           AC         587.0  3422.957120   \n",
       "911233               -1.265740           AC        1176.0  4641.493717   \n",
       "475157               -0.072525           AC        2445.0  5914.122333   \n",
       "514356               -1.174150           AB        1500.0  5587.453063   \n",
       "\n",
       "        velocity_24h  velocity_4w  bank_branch_count_8w  \\\n",
       "3658     6822.506156  6687.497576                    39   \n",
       "806217   2558.529483  4324.110085                     0   \n",
       "911233   2595.291070  3122.983299                     0   \n",
       "475157   5188.253270  5101.730131                     1   \n",
       "514356   5004.210703  4863.498248                  1854   \n",
       "\n",
       "        date_of_birth_distinct_emails_4w employment_status  credit_risk_score  \\\n",
       "3658                                  11                CA                 53   \n",
       "806217                                 5                CA                201   \n",
       "911233                                 4                CB                117   \n",
       "475157                                20               NaN                152   \n",
       "514356                                 8               NaN                324   \n",
       "\n",
       "        email_is_free housing_status  phone_home_valid  phone_mobile_valid  \\\n",
       "3658              0.0             BC                 0                   0   \n",
       "806217            0.0             BE                 0                   1   \n",
       "911233            0.0             BE                 0                   1   \n",
       "475157            0.0             BC                 0                   1   \n",
       "514356            NaN             BB                 0                   1   \n",
       "\n",
       "        bank_months_count  has_other_cards  proposed_credit_limit  \\\n",
       "3658                   28              NaN                  200.0   \n",
       "806217                 -1              1.0                  500.0   \n",
       "911233                 -1              0.0                  200.0   \n",
       "475157                 -1              0.0                 1000.0   \n",
       "514356                 11              1.0                 1500.0   \n",
       "\n",
       "        foreign_request    source  session_length_in_minutes device_os  \\\n",
       "3658                0.0  INTERNET                  46.051438     other   \n",
       "806217              0.0  INTERNET                  50.182321   windows   \n",
       "911233              0.0  INTERNET                   3.175939       NaN   \n",
       "475157              NaN  INTERNET                   4.737515   windows   \n",
       "514356              0.0  INTERNET                  11.839913     other   \n",
       "\n",
       "        keep_alive_session  device_distinct_emails_8w  device_fraud_count  \\\n",
       "3658                     1                          1                   0   \n",
       "806217                   1                          1                   0   \n",
       "911233                   0                          1                   0   \n",
       "475157                   1                          1                   0   \n",
       "514356                   0                          1                   0   \n",
       "\n",
       "        month  \n",
       "3658        0  \n",
       "806217      6  \n",
       "911233      7  \n",
       "475157      3  \n",
       "514356      3  "
      ]
     },
     "execution_count": 35,
     "metadata": {},
     "output_type": "execute_result"
    }
   ],
   "source": [
    "df = pd.read_csv('raw_data.csv')\n",
    "pd.set_option('display.max_columns', None)\n",
    "pd.set_option('display.max_rows', None)\n",
    "\n",
    "df.sample(5)"
   ]
  },
  {
   "cell_type": "code",
   "execution_count": 36,
   "id": "6ffca5be-58a5-4568-b6af-9c0a0c4be379",
   "metadata": {},
   "outputs": [
    {
     "data": {
      "text/plain": [
       "(1000000, 32)"
      ]
     },
     "execution_count": 36,
     "metadata": {},
     "output_type": "execute_result"
    }
   ],
   "source": [
    "df.shape"
   ]
  },
  {
   "cell_type": "code",
   "execution_count": 37,
   "id": "e0691e44-81ac-41f0-859f-a6c9ea1b9055",
   "metadata": {},
   "outputs": [
    {
     "name": "stdout",
     "output_type": "stream",
     "text": [
      "<class 'pandas.core.frame.DataFrame'>\n",
      "RangeIndex: 1000000 entries, 0 to 999999\n",
      "Data columns (total 32 columns):\n",
      " #   Column                            Non-Null Count    Dtype  \n",
      "---  ------                            --------------    -----  \n",
      " 0   fraud_bool                        1000000 non-null  int64  \n",
      " 1   income                            845429 non-null   float64\n",
      " 2   name_email_similarity             878761 non-null   float64\n",
      " 3   prev_address_months_count         537360 non-null   float64\n",
      " 4   current_address_months_count      1000000 non-null  int64  \n",
      " 5   customer_age                      1000000 non-null  int64  \n",
      " 6   days_since_request                1000000 non-null  float64\n",
      " 7   intended_balcon_amount            859130 non-null   float64\n",
      " 8   payment_type                      1000000 non-null  object \n",
      " 9   zip_count_4w                      676304 non-null   float64\n",
      " 10  velocity_6h                       1000000 non-null  float64\n",
      " 11  velocity_24h                      1000000 non-null  float64\n",
      " 12  velocity_4w                       1000000 non-null  float64\n",
      " 13  bank_branch_count_8w              1000000 non-null  int64  \n",
      " 14  date_of_birth_distinct_emails_4w  1000000 non-null  int64  \n",
      " 15  employment_status                 699888 non-null   object \n",
      " 16  credit_risk_score                 1000000 non-null  int64  \n",
      " 17  email_is_free                     824267 non-null   float64\n",
      " 18  housing_status                    1000000 non-null  object \n",
      " 19  phone_home_valid                  1000000 non-null  int64  \n",
      " 20  phone_mobile_valid                1000000 non-null  int64  \n",
      " 21  bank_months_count                 1000000 non-null  int64  \n",
      " 22  has_other_cards                   890909 non-null   float64\n",
      " 23  proposed_credit_limit             1000000 non-null  float64\n",
      " 24  foreign_request                   781577 non-null   float64\n",
      " 25  source                            1000000 non-null  object \n",
      " 26  session_length_in_minutes         1000000 non-null  float64\n",
      " 27  device_os                         706131 non-null   object \n",
      " 28  keep_alive_session                1000000 non-null  int64  \n",
      " 29  device_distinct_emails_8w         1000000 non-null  int64  \n",
      " 30  device_fraud_count                1000000 non-null  int64  \n",
      " 31  month                             1000000 non-null  int64  \n",
      "dtypes: float64(14), int64(13), object(5)\n",
      "memory usage: 244.1+ MB\n"
     ]
    }
   ],
   "source": [
    "df.info()"
   ]
  },
  {
   "cell_type": "code",
   "execution_count": 38,
   "id": "8ccb40e3-408a-4df5-978e-fcee762d833e",
   "metadata": {},
   "outputs": [
    {
     "data": {
      "text/plain": [
       "fraud_bool\n",
       "0    988971\n",
       "1     11029\n",
       "Name: count, dtype: int64"
      ]
     },
     "execution_count": 38,
     "metadata": {},
     "output_type": "execute_result"
    }
   ],
   "source": [
    "df['fraud_bool'].value_counts()"
   ]
  },
  {
   "cell_type": "code",
   "execution_count": 39,
   "id": "caceffbc-d646-41fd-ba58-2da6ff3a6bc0",
   "metadata": {},
   "outputs": [],
   "source": [
    "missing_percent = df.isnull().mean() * 100\n",
    "\n",
    "missing_data = missing_percent[missing_percent > 0]\n",
    "missing_data = missing_data.sort_values(ascending=False)"
   ]
  },
  {
   "cell_type": "code",
   "execution_count": 40,
   "id": "5750c3a5-1bf0-486b-8598-2bb224ba47e3",
   "metadata": {},
   "outputs": [
    {
     "data": {
      "text/plain": [
       "prev_address_months_count    46.2640\n",
       "zip_count_4w                 32.3696\n",
       "employment_status            30.0112\n",
       "device_os                    29.3869\n",
       "foreign_request              21.8423\n",
       "email_is_free                17.5733\n",
       "income                       15.4571\n",
       "intended_balcon_amount       14.0870\n",
       "name_email_similarity        12.1239\n",
       "has_other_cards              10.9091\n",
       "dtype: float64"
      ]
     },
     "execution_count": 40,
     "metadata": {},
     "output_type": "execute_result"
    }
   ],
   "source": [
    "missing_data"
   ]
  },
  {
   "cell_type": "code",
   "execution_count": 41,
   "id": "f7ef55b9-c130-4bdd-bafb-14ece090f2b8",
   "metadata": {},
   "outputs": [],
   "source": [
    "obj_cols = [i for i in df.columns if df[i].dtypes == 'object']\n",
    "int_cols = [i for i in df.columns if df[i].dtypes != 'object' and i!='fraud_bool']"
   ]
  },
  {
   "cell_type": "code",
   "execution_count": 42,
   "id": "698752c2-7989-4130-8fcc-0cbbd3b5e49a",
   "metadata": {
    "scrolled": true
   },
   "outputs": [
    {
     "data": {
      "text/plain": [
       "['income',\n",
       " 'name_email_similarity',\n",
       " 'prev_address_months_count',\n",
       " 'current_address_months_count',\n",
       " 'customer_age',\n",
       " 'days_since_request',\n",
       " 'intended_balcon_amount',\n",
       " 'zip_count_4w',\n",
       " 'velocity_6h',\n",
       " 'velocity_24h',\n",
       " 'velocity_4w',\n",
       " 'bank_branch_count_8w',\n",
       " 'date_of_birth_distinct_emails_4w',\n",
       " 'credit_risk_score',\n",
       " 'email_is_free',\n",
       " 'phone_home_valid',\n",
       " 'phone_mobile_valid',\n",
       " 'bank_months_count',\n",
       " 'has_other_cards',\n",
       " 'proposed_credit_limit',\n",
       " 'foreign_request',\n",
       " 'session_length_in_minutes',\n",
       " 'keep_alive_session',\n",
       " 'device_distinct_emails_8w',\n",
       " 'device_fraud_count',\n",
       " 'month']"
      ]
     },
     "execution_count": 42,
     "metadata": {},
     "output_type": "execute_result"
    }
   ],
   "source": [
    "int_cols"
   ]
  },
  {
   "cell_type": "code",
   "execution_count": 43,
   "id": "80164533-c79f-4d3f-8bb4-11ebfab3ad6c",
   "metadata": {},
   "outputs": [],
   "source": [
    "## Missing values in int\n",
    "\n",
    "missing_percent_int = df[int_cols].isnull().mean() * 100\n",
    "\n",
    "missing_data_int = missing_percent_int[missing_percent_int > 0]\n",
    "missing_data_int = missing_data_int.sort_values(ascending=False)"
   ]
  },
  {
   "cell_type": "code",
   "execution_count": 44,
   "id": "0db4905e-b3ab-48b1-a923-cc6955b21ed4",
   "metadata": {},
   "outputs": [
    {
     "data": {
      "text/plain": [
       "prev_address_months_count    46.2640\n",
       "zip_count_4w                 32.3696\n",
       "foreign_request              21.8423\n",
       "email_is_free                17.5733\n",
       "income                       15.4571\n",
       "intended_balcon_amount       14.0870\n",
       "name_email_similarity        12.1239\n",
       "has_other_cards              10.9091\n",
       "dtype: float64"
      ]
     },
     "execution_count": 44,
     "metadata": {},
     "output_type": "execute_result"
    }
   ],
   "source": [
    "missing_data_int"
   ]
  },
  {
   "cell_type": "code",
   "execution_count": 45,
   "id": "89cf1513-9bfd-4956-a2f1-4e42ece0096f",
   "metadata": {},
   "outputs": [],
   "source": [
    "## Missing values in categorical\n",
    "\n",
    "missing_percent_obj = df[obj_cols].isnull().mean() * 100\n",
    "\n",
    "missing_data_obj = missing_percent_obj[missing_percent_obj > 0]\n",
    "missing_data_obj = missing_percent_obj.sort_values(ascending=False)"
   ]
  },
  {
   "cell_type": "code",
   "execution_count": 46,
   "id": "0adc8015-cb4c-4b00-9e1e-27bead6f0a61",
   "metadata": {},
   "outputs": [
    {
     "data": {
      "text/plain": [
       "employment_status    30.0112\n",
       "device_os            29.3869\n",
       "payment_type          0.0000\n",
       "housing_status        0.0000\n",
       "source                0.0000\n",
       "dtype: float64"
      ]
     },
     "execution_count": 46,
     "metadata": {},
     "output_type": "execute_result"
    }
   ],
   "source": [
    "missing_data_obj"
   ]
  },
  {
   "cell_type": "code",
   "execution_count": 47,
   "id": "145656b7-d96b-4ab9-8629-914c8d33234f",
   "metadata": {},
   "outputs": [],
   "source": [
    "from sklearn.impute import SimpleImputer\n",
    "from sklearn.preprocessing import StandardScaler\n",
    "from sklearn.preprocessing import OrdinalEncoder,OneHotEncoder\n",
    "from sklearn.pipeline import Pipeline\n",
    "from sklearn.compose import ColumnTransformer"
   ]
  },
  {
   "cell_type": "code",
   "execution_count": 48,
   "id": "e11d7844-59c1-4d91-90e2-4c0bd26c184e",
   "metadata": {},
   "outputs": [],
   "source": [
    "numerical_pipeline=Pipeline(steps=[\n",
    "    ('impute',SimpleImputer(strategy='mean'))\n",
    "])\n",
    "\n",
    "# categorical pipeline\n",
    "\n",
    "categorical_pipeline=Pipeline(steps=[\n",
    "    ('impute',SimpleImputer(strategy='most_frequent')),\n",
    "    ('ohe_impute', OneHotEncoder())\n",
    "])"
   ]
  },
  {
   "cell_type": "code",
   "execution_count": 49,
   "id": "f2fe72b0-b69f-4afd-b6ba-7c30dd5fa8c6",
   "metadata": {},
   "outputs": [],
   "source": [
    "preprocessor =ColumnTransformer([\n",
    "    ('numerical_pipeline',numerical_pipeline,int_cols),\n",
    "    ('categorical_pipeline',categorical_pipeline,obj_cols)\n",
    "])"
   ]
  },
  {
   "cell_type": "code",
   "execution_count": 50,
   "id": "7eeeedcb-6d05-4c79-9147-6ff2a54a0fab",
   "metadata": {},
   "outputs": [],
   "source": [
    "from sklearn.model_selection import train_test_split"
   ]
  },
  {
   "cell_type": "code",
   "execution_count": 51,
   "id": "26bd4cb9-b59c-4ef8-ac3e-d1f3f76bb545",
   "metadata": {},
   "outputs": [],
   "source": [
    "df_train, df_test = train_test_split(df, test_size=0.2)"
   ]
  },
  {
   "cell_type": "code",
   "execution_count": 52,
   "id": "7c4d8d91-a2ef-424f-8a80-0ef8defeeaa2",
   "metadata": {},
   "outputs": [],
   "source": [
    "y_train = df_train[['fraud_bool']]\n",
    "X_train = df_train.drop(['fraud_bool'],axis=1)\n",
    "\n",
    "y_test = df_test[['fraud_bool']]\n",
    "X_test = df_test.drop(['fraud_bool'],axis=1)"
   ]
  },
  {
   "cell_type": "code",
   "execution_count": 53,
   "id": "a44864f1-69b9-4b92-bb8c-91c74b8eaae7",
   "metadata": {},
   "outputs": [],
   "source": [
    "X_train=preprocessor.fit_transform(X_train)\n",
    "X_test=preprocessor.transform(X_test)"
   ]
  },
  {
   "cell_type": "code",
   "execution_count": 54,
   "id": "4fae854b-a845-4af2-a320-e40066fd56ad",
   "metadata": {},
   "outputs": [],
   "source": [
    "from sklearn.linear_model import LogisticRegression\n",
    "from sklearn.tree import DecisionTreeClassifier\n",
    "from sklearn.ensemble import RandomForestClassifier\n",
    "from sklearn.ensemble import GradientBoostingClassifier\n",
    "from xgboost import XGBClassifier"
   ]
  },
  {
   "cell_type": "code",
   "execution_count": 55,
   "id": "03d38ce8-3494-46f4-bb92-58fa69edd2ac",
   "metadata": {},
   "outputs": [],
   "source": [
    "models = {\n",
    "                \"Random Forest\": RandomForestClassifier(n_jobs = -1,class_weight={0:1, 1:90}),\n",
    "                \"Decision Tree\": DecisionTreeClassifier(class_weight={0:1, 1:90}),\n",
    "                \"Logistic\": LogisticRegression(n_jobs = -1,class_weight={0:1, 1:90}),\n",
    "                \"Gradient Boosting\": GradientBoostingClassifier(),\n",
    "                \"XGBoost Classifier\": XGBClassifier(n_jobs = -1,class_weight={0:1, 1:90})\n",
    "            }"
   ]
  },
  {
   "cell_type": "code",
   "execution_count": 60,
   "id": "f1288422-33b8-4153-b8cb-528992824f02",
   "metadata": {},
   "outputs": [],
   "source": [
    "from sklearn.metrics import recall_score, classification_report"
   ]
  },
  {
   "cell_type": "code",
   "execution_count": 57,
   "id": "fa1ce5b8-e76e-407a-ac50-fead1c3fb70d",
   "metadata": {},
   "outputs": [
    {
     "data": {
      "text/html": [
       "<pre style=\"white-space:pre;overflow-x:auto;line-height:normal;font-family:Menlo,'DejaVu Sans Mono',consolas,'Courier New',monospace\">Accessing as SrijanDeo-DA-DS\n",
       "</pre>\n"
      ],
      "text/plain": [
       "Accessing as SrijanDeo-DA-DS\n"
      ]
     },
     "metadata": {},
     "output_type": "display_data"
    },
    {
     "data": {
      "text/html": [
       "<pre style=\"white-space:pre;overflow-x:auto;line-height:normal;font-family:Menlo,'DejaVu Sans Mono',consolas,'Courier New',monospace\">Initialized MLflow to track repo <span style=\"color: #008000; text-decoration-color: #008000\">\"SrijanDeo-DA-DS/bank-fraud-detection-with-deployment\"</span>\n",
       "</pre>\n"
      ],
      "text/plain": [
       "Initialized MLflow to track repo \u001b[32m\"SrijanDeo-DA-DS/bank-fraud-detection-with-deployment\"\u001b[0m\n"
      ]
     },
     "metadata": {},
     "output_type": "display_data"
    },
    {
     "data": {
      "text/html": [
       "<pre style=\"white-space:pre;overflow-x:auto;line-height:normal;font-family:Menlo,'DejaVu Sans Mono',consolas,'Courier New',monospace\">Repository SrijanDeo-DA-DS/bank-fraud-detection-with-deployment initialized!\n",
       "</pre>\n"
      ],
      "text/plain": [
       "Repository SrijanDeo-DA-DS/bank-fraud-detection-with-deployment initialized!\n"
      ]
     },
     "metadata": {},
     "output_type": "display_data"
    },
    {
     "name": "stderr",
     "output_type": "stream",
     "text": [
      "2024/10/24 23:15:59 INFO mlflow.tracking.fluent: Experiment with name 'All models Baseline' does not exist. Creating a new experiment.\n"
     ]
    },
    {
     "data": {
      "text/plain": [
       "<Experiment: artifact_location='mlflow-artifacts:/18dd15af40de49d1808ac5e0ec5d1663', creation_time=1729829789483, experiment_id='2', last_update_time=1729829789483, lifecycle_stage='active', name='All models Baseline', tags={}>"
      ]
     },
     "execution_count": 57,
     "metadata": {},
     "output_type": "execute_result"
    }
   ],
   "source": [
    "## Dagshub setup\n",
    "import dagshub\n",
    "import mlflow\n",
    "dagshub.init(repo_owner='SrijanDeo-DA-DS', repo_name='bank-fraud-detection-with-deployment', mlflow=True)\n",
    "mlflow.set_tracking_uri('https://dagshub.com/SrijanDeo-DA-DS/bank-fraud-detection-with-deployment.mlflow')\n",
    "\n",
    "mlflow.set_experiment(\"All models Baseline\")"
   ]
  },
  {
   "cell_type": "code",
   "execution_count": 62,
   "id": "b915944a-1656-4374-9dd0-32aa8a93328e",
   "metadata": {},
   "outputs": [
    {
     "name": "stdout",
     "output_type": "stream",
     "text": [
      "Train data classification report for-  Random Forest               precision    recall  f1-score   support\n",
      "\n",
      "           0       1.00      1.00      1.00    791256\n",
      "           1       1.00      1.00      1.00      8744\n",
      "\n",
      "    accuracy                           1.00    800000\n",
      "   macro avg       1.00      1.00      1.00    800000\n",
      "weighted avg       1.00      1.00      1.00    800000\n",
      "\n",
      "Test data classification report -  Random Forest               precision    recall  f1-score   support\n",
      "\n",
      "           0       0.99      1.00      0.99    197715\n",
      "           1       0.00      0.00      0.00      2285\n",
      "\n",
      "    accuracy                           0.99    200000\n",
      "   macro avg       0.49      0.50      0.50    200000\n",
      "weighted avg       0.98      0.99      0.98    200000\n",
      "\n"
     ]
    },
    {
     "name": "stderr",
     "output_type": "stream",
     "text": [
      "2024/10/24 23:22:18 WARNING mlflow.models.model: Model logged without a signature and input example. Please set `input_example` parameter when logging the model to auto infer the model signature.\n",
      "2024/10/24 23:27:35 INFO mlflow.tracking._tracking_service.client: 🏃 View run Random Forest at: https://dagshub.com/SrijanDeo-DA-DS/bank-fraud-detection-with-deployment.mlflow/#/experiments/2/runs/39a38218566d449c8f7f6020516e1754.\n",
      "2024/10/24 23:27:35 INFO mlflow.tracking._tracking_service.client: 🧪 View experiment at: https://dagshub.com/SrijanDeo-DA-DS/bank-fraud-detection-with-deployment.mlflow/#/experiments/2.\n"
     ]
    },
    {
     "name": "stdout",
     "output_type": "stream",
     "text": [
      "Train data classification report for-  Decision Tree               precision    recall  f1-score   support\n",
      "\n",
      "           0       1.00      1.00      1.00    791256\n",
      "           1       1.00      1.00      1.00      8744\n",
      "\n",
      "    accuracy                           1.00    800000\n",
      "   macro avg       1.00      1.00      1.00    800000\n",
      "weighted avg       1.00      1.00      1.00    800000\n",
      "\n",
      "Test data classification report -  Decision Tree               precision    recall  f1-score   support\n",
      "\n",
      "           0       0.99      0.99      0.99    197715\n",
      "           1       0.07      0.07      0.07      2285\n",
      "\n",
      "    accuracy                           0.98    200000\n",
      "   macro avg       0.53      0.53      0.53    200000\n",
      "weighted avg       0.98      0.98      0.98    200000\n",
      "\n"
     ]
    },
    {
     "name": "stderr",
     "output_type": "stream",
     "text": [
      "2024/10/24 23:28:23 WARNING mlflow.models.model: Model logged without a signature and input example. Please set `input_example` parameter when logging the model to auto infer the model signature.\n",
      "2024/10/24 23:28:27 INFO mlflow.tracking._tracking_service.client: 🏃 View run Decision Tree at: https://dagshub.com/SrijanDeo-DA-DS/bank-fraud-detection-with-deployment.mlflow/#/experiments/2/runs/7c9adddd8bda4710a946a652d1313816.\n",
      "2024/10/24 23:28:27 INFO mlflow.tracking._tracking_service.client: 🧪 View experiment at: https://dagshub.com/SrijanDeo-DA-DS/bank-fraud-detection-with-deployment.mlflow/#/experiments/2.\n"
     ]
    },
    {
     "name": "stdout",
     "output_type": "stream",
     "text": [
      "Train data classification report for-  Logistic               precision    recall  f1-score   support\n",
      "\n",
      "           0       0.99      0.67      0.80    791256\n",
      "           1       0.02      0.67      0.04      8744\n",
      "\n",
      "    accuracy                           0.67    800000\n",
      "   macro avg       0.51      0.67      0.42    800000\n",
      "weighted avg       0.98      0.67      0.79    800000\n",
      "\n",
      "Test data classification report -  Logistic               precision    recall  f1-score   support\n",
      "\n",
      "           0       0.99      0.67      0.80    197715\n",
      "           1       0.02      0.66      0.04      2285\n",
      "\n",
      "    accuracy                           0.67    200000\n",
      "   macro avg       0.51      0.67      0.42    200000\n",
      "weighted avg       0.98      0.67      0.79    200000\n",
      "\n"
     ]
    },
    {
     "name": "stderr",
     "output_type": "stream",
     "text": [
      "2024/10/24 23:28:42 WARNING mlflow.models.model: Model logged without a signature and input example. Please set `input_example` parameter when logging the model to auto infer the model signature.\n",
      "2024/10/24 23:28:46 INFO mlflow.tracking._tracking_service.client: 🏃 View run Logistic at: https://dagshub.com/SrijanDeo-DA-DS/bank-fraud-detection-with-deployment.mlflow/#/experiments/2/runs/e6a9c499d4584bc28dc7ca85a243a7be.\n",
      "2024/10/24 23:28:46 INFO mlflow.tracking._tracking_service.client: 🧪 View experiment at: https://dagshub.com/SrijanDeo-DA-DS/bank-fraud-detection-with-deployment.mlflow/#/experiments/2.\n"
     ]
    },
    {
     "name": "stdout",
     "output_type": "stream",
     "text": [
      "Train data classification report for-  Gradient Boosting               precision    recall  f1-score   support\n",
      "\n",
      "           0       0.99      1.00      0.99    791256\n",
      "           1       0.58      0.03      0.05      8744\n",
      "\n",
      "    accuracy                           0.99    800000\n",
      "   macro avg       0.78      0.51      0.52    800000\n",
      "weighted avg       0.98      0.99      0.98    800000\n",
      "\n",
      "Test data classification report -  Gradient Boosting               precision    recall  f1-score   support\n",
      "\n",
      "           0       0.99      1.00      0.99    197715\n",
      "           1       0.62      0.03      0.05      2285\n",
      "\n",
      "    accuracy                           0.99    200000\n",
      "   macro avg       0.80      0.51      0.52    200000\n",
      "weighted avg       0.98      0.99      0.98    200000\n",
      "\n"
     ]
    },
    {
     "name": "stderr",
     "output_type": "stream",
     "text": [
      "2024/10/24 23:41:18 WARNING mlflow.models.model: Model logged without a signature and input example. Please set `input_example` parameter when logging the model to auto infer the model signature.\n",
      "2024/10/24 23:41:54 INFO mlflow.tracking._tracking_service.client: 🏃 View run Gradient Boosting at: https://dagshub.com/SrijanDeo-DA-DS/bank-fraud-detection-with-deployment.mlflow/#/experiments/2/runs/e7edfb92d3cf4d589e0cf951af96a03b.\n",
      "2024/10/24 23:41:54 INFO mlflow.tracking._tracking_service.client: 🧪 View experiment at: https://dagshub.com/SrijanDeo-DA-DS/bank-fraud-detection-with-deployment.mlflow/#/experiments/2.\n"
     ]
    },
    {
     "name": "stdout",
     "output_type": "stream",
     "text": [
      "Train data classification report for-  XGBoost Classifier               precision    recall  f1-score   support\n",
      "\n",
      "           0       0.99      1.00      0.99    791256\n",
      "           1       0.83      0.09      0.16      8744\n",
      "\n",
      "    accuracy                           0.99    800000\n",
      "   macro avg       0.91      0.55      0.58    800000\n",
      "weighted avg       0.99      0.99      0.99    800000\n",
      "\n",
      "Test data classification report -  XGBoost Classifier               precision    recall  f1-score   support\n",
      "\n",
      "           0       0.99      1.00      0.99    197715\n",
      "           1       0.51      0.04      0.08      2285\n",
      "\n",
      "    accuracy                           0.99    200000\n",
      "   macro avg       0.75      0.52      0.54    200000\n",
      "weighted avg       0.98      0.99      0.98    200000\n",
      "\n"
     ]
    },
    {
     "name": "stderr",
     "output_type": "stream",
     "text": [
      "2024/10/24 23:42:26 WARNING mlflow.models.model: Model logged without a signature and input example. Please set `input_example` parameter when logging the model to auto infer the model signature.\n",
      "2024/10/24 23:42:44 INFO mlflow.tracking._tracking_service.client: 🏃 View run XGBoost Classifier at: https://dagshub.com/SrijanDeo-DA-DS/bank-fraud-detection-with-deployment.mlflow/#/experiments/2/runs/ad8f503d2f824eacbc3bc8159d901ee3.\n",
      "2024/10/24 23:42:44 INFO mlflow.tracking._tracking_service.client: 🧪 View experiment at: https://dagshub.com/SrijanDeo-DA-DS/bank-fraud-detection-with-deployment.mlflow/#/experiments/2.\n",
      "2024/10/24 23:42:44 INFO mlflow.tracking._tracking_service.client: 🏃 View run All experiments at: https://dagshub.com/SrijanDeo-DA-DS/bank-fraud-detection-with-deployment.mlflow/#/experiments/2/runs/724fd6b39a42440b943c7b44f9c87134.\n",
      "2024/10/24 23:42:44 INFO mlflow.tracking._tracking_service.client: 🧪 View experiment at: https://dagshub.com/SrijanDeo-DA-DS/bank-fraud-detection-with-deployment.mlflow/#/experiments/2.\n"
     ]
    }
   ],
   "source": [
    "results_training = []\n",
    "results_test = []\n",
    "\n",
    "with mlflow.start_run(run_name=\"All experiments\") as parent_run:\n",
    "    for name, model in models.items():\n",
    "\n",
    "        with mlflow.start_run(run_name=f\"{name}\", nested=True) as child_run:\n",
    "\n",
    "            ## log preprocessing paramters\n",
    "            mlflow.log_param(\"test_size\",0.2)\n",
    "    \n",
    "            ## log model\n",
    "            mlflow.log_param(\"model\", name)\n",
    "    \n",
    "            if name == \"RandomForestClassifier\":\n",
    "                mlflow.log_param(\"class_weight\", model.class_weight)\n",
    "            elif name == \"DecisionTreeClassifier\":\n",
    "                mlflow.log_param(\"class_weight\", model.class_weight)\n",
    "            elif name == \"LogisticRegression\":\n",
    "                mlflow.log_param(\"class_weight\", model.class_weight)\n",
    "            elif name == \"XGBClassifier\":\n",
    "                mlflow.log_param(\"class_weight\", model.class_weight)\n",
    "            \n",
    "            model.fit(X_train, y_train)\n",
    "            y_pred_test = model.predict(X_test)\n",
    "        \n",
    "            ##for underfitting\n",
    "            y_pred_train = model.predict(X_train)\n",
    "        \n",
    "            # recall score\n",
    "            recall_test = recall_score(y_test, y_pred_test)\n",
    "            recall_train = recall_score(y_train, y_pred_train)\n",
    "        \n",
    "            # logging recall (can log other metrics too)\n",
    "            mlflow.log_metric(\"recall-train-data\", recall_train)\n",
    "            mlflow.log_metric(\"recall-test-data\", recall_test)\n",
    "            \n",
    "            results_training.append({\"Model\": name, \"Recall\": recall_train})\n",
    "            results_test.append({\"Model\": name, \"Recall\": recall_test})\n",
    "        \n",
    "            # classification report\n",
    "            print(\"Train data classification report for- \",name,classification_report(y_train, y_pred_train))\n",
    "            print(\"Test data classification report - \",name, classification_report(y_test, y_pred_test))\n",
    "        \n",
    "            # log model\n",
    "            mlflow.sklearn.log_model(model, \"model\")\n",
    "        \n",
    "            # log notebook\n",
    "            import os\n",
    "            notebook_path = \"exp2_baseline_all_model.ipynb\"\n",
    "            os.system(f\"Jupyer nbconvert --to notebook --execute --inplace {notebook_path}\")\n",
    "            mlflow.log_artifact(notebook_path)\n",
    "\n",
    "    \n",
    "results_df_test = pd.DataFrame(results_test)\n",
    "\n",
    "results_df_training = pd.DataFrame(results_training)"
   ]
  },
  {
   "cell_type": "code",
   "execution_count": 63,
   "id": "afc6c2ae-8215-4a66-b3f4-b47b2e92f6a0",
   "metadata": {},
   "outputs": [
    {
     "data": {
      "text/html": [
       "<div>\n",
       "<style scoped>\n",
       "    .dataframe tbody tr th:only-of-type {\n",
       "        vertical-align: middle;\n",
       "    }\n",
       "\n",
       "    .dataframe tbody tr th {\n",
       "        vertical-align: top;\n",
       "    }\n",
       "\n",
       "    .dataframe thead th {\n",
       "        text-align: right;\n",
       "    }\n",
       "</style>\n",
       "<table border=\"1\" class=\"dataframe\">\n",
       "  <thead>\n",
       "    <tr style=\"text-align: right;\">\n",
       "      <th></th>\n",
       "      <th>Model</th>\n",
       "      <th>Recall</th>\n",
       "    </tr>\n",
       "  </thead>\n",
       "  <tbody>\n",
       "    <tr>\n",
       "      <th>0</th>\n",
       "      <td>Random Forest</td>\n",
       "      <td>0.000000</td>\n",
       "    </tr>\n",
       "    <tr>\n",
       "      <th>1</th>\n",
       "      <td>Decision Tree</td>\n",
       "      <td>0.073085</td>\n",
       "    </tr>\n",
       "    <tr>\n",
       "      <th>2</th>\n",
       "      <td>Logistic</td>\n",
       "      <td>0.663457</td>\n",
       "    </tr>\n",
       "    <tr>\n",
       "      <th>3</th>\n",
       "      <td>Gradient Boosting</td>\n",
       "      <td>0.026258</td>\n",
       "    </tr>\n",
       "    <tr>\n",
       "      <th>4</th>\n",
       "      <td>XGBoost Classifier</td>\n",
       "      <td>0.042013</td>\n",
       "    </tr>\n",
       "  </tbody>\n",
       "</table>\n",
       "</div>"
      ],
      "text/plain": [
       "                Model    Recall\n",
       "0       Random Forest  0.000000\n",
       "1       Decision Tree  0.073085\n",
       "2            Logistic  0.663457\n",
       "3   Gradient Boosting  0.026258\n",
       "4  XGBoost Classifier  0.042013"
      ]
     },
     "execution_count": 63,
     "metadata": {},
     "output_type": "execute_result"
    }
   ],
   "source": [
    "results_df_test"
   ]
  },
  {
   "cell_type": "code",
   "execution_count": 64,
   "id": "63b4357f-ec94-41b6-9bb0-f6ad5fecd0cf",
   "metadata": {},
   "outputs": [
    {
     "data": {
      "text/html": [
       "<div>\n",
       "<style scoped>\n",
       "    .dataframe tbody tr th:only-of-type {\n",
       "        vertical-align: middle;\n",
       "    }\n",
       "\n",
       "    .dataframe tbody tr th {\n",
       "        vertical-align: top;\n",
       "    }\n",
       "\n",
       "    .dataframe thead th {\n",
       "        text-align: right;\n",
       "    }\n",
       "</style>\n",
       "<table border=\"1\" class=\"dataframe\">\n",
       "  <thead>\n",
       "    <tr style=\"text-align: right;\">\n",
       "      <th></th>\n",
       "      <th>Model</th>\n",
       "      <th>Recall</th>\n",
       "    </tr>\n",
       "  </thead>\n",
       "  <tbody>\n",
       "    <tr>\n",
       "      <th>0</th>\n",
       "      <td>Random Forest</td>\n",
       "      <td>0.997941</td>\n",
       "    </tr>\n",
       "    <tr>\n",
       "      <th>1</th>\n",
       "      <td>Decision Tree</td>\n",
       "      <td>1.000000</td>\n",
       "    </tr>\n",
       "    <tr>\n",
       "      <th>2</th>\n",
       "      <td>Logistic</td>\n",
       "      <td>0.669030</td>\n",
       "    </tr>\n",
       "    <tr>\n",
       "      <th>3</th>\n",
       "      <td>Gradient Boosting</td>\n",
       "      <td>0.027219</td>\n",
       "    </tr>\n",
       "    <tr>\n",
       "      <th>4</th>\n",
       "      <td>XGBoost Classifier</td>\n",
       "      <td>0.090233</td>\n",
       "    </tr>\n",
       "  </tbody>\n",
       "</table>\n",
       "</div>"
      ],
      "text/plain": [
       "                Model    Recall\n",
       "0       Random Forest  0.997941\n",
       "1       Decision Tree  1.000000\n",
       "2            Logistic  0.669030\n",
       "3   Gradient Boosting  0.027219\n",
       "4  XGBoost Classifier  0.090233"
      ]
     },
     "execution_count": 64,
     "metadata": {},
     "output_type": "execute_result"
    }
   ],
   "source": [
    "results_df_training"
   ]
  },
  {
   "cell_type": "code",
   "execution_count": null,
   "id": "b6b2e1f6-6d7f-45a4-9f19-33da0f4a6b41",
   "metadata": {},
   "outputs": [],
   "source": []
  }
 ],
 "metadata": {
  "kernelspec": {
   "display_name": "Python 3 (ipykernel)",
   "language": "python",
   "name": "python3"
  },
  "language_info": {
   "codemirror_mode": {
    "name": "ipython",
    "version": 3
   },
   "file_extension": ".py",
   "mimetype": "text/x-python",
   "name": "python",
   "nbconvert_exporter": "python",
   "pygments_lexer": "ipython3",
   "version": "3.11.7"
  }
 },
 "nbformat": 4,
 "nbformat_minor": 5
}
